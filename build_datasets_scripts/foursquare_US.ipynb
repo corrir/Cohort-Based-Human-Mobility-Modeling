{
 "cells": [
  {
   "cell_type": "code",
   "execution_count": 1,
   "metadata": {},
   "outputs": [],
   "source": [
    "import pandas as pd\n",
    "import numpy as np\n",
    "from datetime import datetime\n",
    "\n",
    "col_names = ['vid', 'lat', 'lng', 'type', 'country']\n",
    "dataPOIs = pd.read_csv('../datasets_original/foursquare/POIs.txt', sep='\\t', header=None, names=col_names)"
   ]
  },
  {
   "cell_type": "code",
   "execution_count": 2,
   "metadata": {},
   "outputs": [],
   "source": [
    "vids = []\n",
    "for index, row in dataPOIs.iterrows():\n",
    "    if row['country'] == 'US':\n",
    "        vids.append(row['vid'])"
   ]
  },
  {
   "cell_type": "code",
   "execution_count": 3,
   "metadata": {},
   "outputs": [
    {
     "data": {
      "text/plain": [
       "501900"
      ]
     },
     "execution_count": 3,
     "metadata": {},
     "output_type": "execute_result"
    }
   ],
   "source": [
    "len(vids)"
   ]
  },
  {
   "cell_type": "code",
   "execution_count": 4,
   "metadata": {},
   "outputs": [
    {
     "name": "stderr",
     "output_type": "stream",
     "text": [
      "/tmp/ipykernel_2709099/802885252.py:3: SettingWithCopyWarning: \n",
      "A value is trying to be set on a copy of a slice from a DataFrame.\n",
      "Try using .loc[row_indexer,col_indexer] = value instead\n",
      "\n",
      "See the caveats in the documentation: https://pandas.pydata.org/pandas-docs/stable/user_guide/indexing.html#returning-a-view-versus-a-copy\n",
      "  df_final['datetime'] = pd.to_datetime(df_final.datetime).dt.strftime('%Y-%m-%dT%H:%M:%SZ')\n"
     ]
    },
    {
     "name": "stdout",
     "output_type": "stream",
     "text": [
      "11116\n",
      "7183\n"
     ]
    }
   ],
   "source": [
    "df = pd.read_csv('../datasets_final/foursquare/dataset.csv')\n",
    "df_final = df[df.vid.isin(vids)]\n",
    "df_final['datetime'] = pd.to_datetime(df_final.datetime).dt.strftime('%Y-%m-%dT%H:%M:%SZ')\n",
    "groups = df_final.groupby('uid')\n",
    "sizes = groups.size()\n",
    "min_checkins = 100\n",
    "users = sizes[sizes>=min_checkins].index\n",
    "df_final2 = df_final[df_final['uid'].isin(users)]\n",
    "\n",
    "groups2 = df_final2.groupby('vid')\n",
    "sizes2 = groups2.size()\n",
    "min_occurences = 50\n",
    "places = sizes2[sizes2>=min_occurences].index\n",
    "df_final3 = df_final2[df_final2['vid'].isin(places)]\n",
    "df_results = df_final3.sort_values(['uid', 'datetime'], ascending = (True, False))\n",
    "print(df_results.uid.nunique())\n",
    "print(df_results.vid.nunique())"
   ]
  },
  {
   "cell_type": "code",
   "execution_count": 5,
   "metadata": {},
   "outputs": [
    {
     "data": {
      "text/html": [
       "<div>\n",
       "<style scoped>\n",
       "    .dataframe tbody tr th:only-of-type {\n",
       "        vertical-align: middle;\n",
       "    }\n",
       "\n",
       "    .dataframe tbody tr th {\n",
       "        vertical-align: top;\n",
       "    }\n",
       "\n",
       "    .dataframe thead th {\n",
       "        text-align: right;\n",
       "    }\n",
       "</style>\n",
       "<table border=\"1\" class=\"dataframe\">\n",
       "  <thead>\n",
       "    <tr style=\"text-align: right;\">\n",
       "      <th></th>\n",
       "      <th>uid</th>\n",
       "      <th>datetime</th>\n",
       "      <th>lat</th>\n",
       "      <th>lng</th>\n",
       "      <th>vid</th>\n",
       "    </tr>\n",
       "  </thead>\n",
       "  <tbody>\n",
       "    <tr>\n",
       "      <th>1872</th>\n",
       "      <td>1</td>\n",
       "      <td>2013-03-12T20:34:32Z</td>\n",
       "      <td>40.694416</td>\n",
       "      <td>-73.675675</td>\n",
       "      <td>0</td>\n",
       "    </tr>\n",
       "    <tr>\n",
       "      <th>1870</th>\n",
       "      <td>1</td>\n",
       "      <td>2013-03-12T20:33:08Z</td>\n",
       "      <td>40.694334</td>\n",
       "      <td>-73.678330</td>\n",
       "      <td>1</td>\n",
       "    </tr>\n",
       "    <tr>\n",
       "      <th>1869</th>\n",
       "      <td>1</td>\n",
       "      <td>2013-03-12T20:32:54Z</td>\n",
       "      <td>40.694475</td>\n",
       "      <td>-73.678415</td>\n",
       "      <td>2</td>\n",
       "    </tr>\n",
       "    <tr>\n",
       "      <th>1868</th>\n",
       "      <td>1</td>\n",
       "      <td>2013-03-12T18:44:14Z</td>\n",
       "      <td>40.694298</td>\n",
       "      <td>-73.678324</td>\n",
       "      <td>3</td>\n",
       "    </tr>\n",
       "    <tr>\n",
       "      <th>1867</th>\n",
       "      <td>1</td>\n",
       "      <td>2013-03-12T18:43:40Z</td>\n",
       "      <td>40.694475</td>\n",
       "      <td>-73.678415</td>\n",
       "      <td>2</td>\n",
       "    </tr>\n",
       "    <tr>\n",
       "      <th>...</th>\n",
       "      <td>...</td>\n",
       "      <td>...</td>\n",
       "      <td>...</td>\n",
       "      <td>...</td>\n",
       "      <td>...</td>\n",
       "    </tr>\n",
       "    <tr>\n",
       "      <th>25294761</th>\n",
       "      <td>187809</td>\n",
       "      <td>2013-04-17T20:56:53Z</td>\n",
       "      <td>27.946777</td>\n",
       "      <td>-82.526529</td>\n",
       "      <td>2839</td>\n",
       "    </tr>\n",
       "    <tr>\n",
       "      <th>25294741</th>\n",
       "      <td>187809</td>\n",
       "      <td>2013-03-06T22:49:22Z</td>\n",
       "      <td>28.069187</td>\n",
       "      <td>-82.576627</td>\n",
       "      <td>1840</td>\n",
       "    </tr>\n",
       "    <tr>\n",
       "      <th>25294691</th>\n",
       "      <td>187809</td>\n",
       "      <td>2012-12-28T03:34:30Z</td>\n",
       "      <td>28.033103</td>\n",
       "      <td>-82.542579</td>\n",
       "      <td>1842</td>\n",
       "    </tr>\n",
       "    <tr>\n",
       "      <th>25295146</th>\n",
       "      <td>187855</td>\n",
       "      <td>2013-03-30T03:36:52Z</td>\n",
       "      <td>39.778464</td>\n",
       "      <td>-86.159635</td>\n",
       "      <td>2355</td>\n",
       "    </tr>\n",
       "    <tr>\n",
       "      <th>25295139</th>\n",
       "      <td>187855</td>\n",
       "      <td>2013-03-24T02:27:11Z</td>\n",
       "      <td>39.778464</td>\n",
       "      <td>-86.159635</td>\n",
       "      <td>2355</td>\n",
       "    </tr>\n",
       "  </tbody>\n",
       "</table>\n",
       "<p>678663 rows × 5 columns</p>\n",
       "</div>"
      ],
      "text/plain": [
       "             uid              datetime        lat        lng   vid\n",
       "1872           1  2013-03-12T20:34:32Z  40.694416 -73.675675     0\n",
       "1870           1  2013-03-12T20:33:08Z  40.694334 -73.678330     1\n",
       "1869           1  2013-03-12T20:32:54Z  40.694475 -73.678415     2\n",
       "1868           1  2013-03-12T18:44:14Z  40.694298 -73.678324     3\n",
       "1867           1  2013-03-12T18:43:40Z  40.694475 -73.678415     2\n",
       "...          ...                   ...        ...        ...   ...\n",
       "25294761  187809  2013-04-17T20:56:53Z  27.946777 -82.526529  2839\n",
       "25294741  187809  2013-03-06T22:49:22Z  28.069187 -82.576627  1840\n",
       "25294691  187809  2012-12-28T03:34:30Z  28.033103 -82.542579  1842\n",
       "25295146  187855  2013-03-30T03:36:52Z  39.778464 -86.159635  2355\n",
       "25295139  187855  2013-03-24T02:27:11Z  39.778464 -86.159635  2355\n",
       "\n",
       "[678663 rows x 5 columns]"
      ]
     },
     "execution_count": 5,
     "metadata": {},
     "output_type": "execute_result"
    }
   ],
   "source": [
    "vocabulary = list(df_results.vid.unique())\n",
    "vid_indices = dict((c, i) for i, c in enumerate(vocabulary))\n",
    "indices_vid = dict((i, c) for i, c in enumerate(vocabulary))\n",
    "newList = [vid_indices[k] for k in df_results.vid if k in vid_indices]\n",
    "df_results.vid = newList\n",
    "df_results = df_results.astype({'vid':'int'})\n",
    "df_results.to_csv(r'../datasets_final/foursquare_US/dataset.txt', sep=\"\\t\", mode='a', header=False, index=False)\n",
    "df_results"
   ]
  }
 ],
 "metadata": {
  "kernelspec": {
   "display_name": "Python 3.8.8 ('base')",
   "language": "python",
   "name": "python3"
  },
  "language_info": {
   "codemirror_mode": {
    "name": "ipython",
    "version": 3
   },
   "file_extension": ".py",
   "mimetype": "text/x-python",
   "name": "python",
   "nbconvert_exporter": "python",
   "pygments_lexer": "ipython3",
   "version": "3.8.8"
  },
  "orig_nbformat": 4,
  "vscode": {
   "interpreter": {
    "hash": "31f537ffad4d028201ef45441dd01b7bb919ccc174877a702f96b13c420a2b84"
   }
  }
 },
 "nbformat": 4,
 "nbformat_minor": 2
}
