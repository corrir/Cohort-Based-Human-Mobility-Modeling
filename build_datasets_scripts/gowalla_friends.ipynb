{
 "cells": [
  {
   "cell_type": "code",
   "execution_count": 1,
   "metadata": {},
   "outputs": [],
   "source": [
    "import pandas as pd\n",
    "import numpy as np\n",
    "from datetime import datetime\n",
    "\n",
    "col_names = ['uid', 'datetime', 'lat', 'lng', 'vid']\n",
    "df = pd.read_csv('../datasets_original/gowalla/original.txt', sep='\\t', header=None, names=col_names)\n",
    "df['datetime'] = pd.to_datetime(df['datetime'], format='%Y-%m-%dT%H:%M:%S').dt.strftime('%Y-%m-%dT%H:%M:%SZ')\n",
    "# ('%Y-%m-%d %H:%M:%S')\n",
    "df.to_csv(r'../datasets_produced/gowalla/dataset.csv', sep=',', mode='a', header=True, index=False)"
   ]
  },
  {
   "cell_type": "code",
   "execution_count": 2,
   "metadata": {},
   "outputs": [],
   "source": [
    "col_names_edges = ['user1', 'user2']\n",
    "df_edges = pd.read_csv('../datasets_original/gowalla/edges.txt', sep='\\t', header=None, names=col_names_edges)\n",
    "count_friends = {}\n",
    "list_user = df_edges.user1.unique()\n",
    "for index, row in df_edges.iterrows():\n",
    "    if row['user1'] not in count_friends:\n",
    "        count_friends[row['user1']] = 0\n",
    "    else:\n",
    "        count_friends[row['user1']] += 1\n",
    "\n"
   ]
  },
  {
   "cell_type": "code",
   "execution_count": 3,
   "metadata": {},
   "outputs": [
    {
     "name": "stdout",
     "output_type": "stream",
     "text": [
      "196591\n"
     ]
    }
   ],
   "source": [
    "count_friends_sorted = dict(sorted(count_friends.items(), key=lambda item: item[1]))\n",
    "print(len(count_friends_sorted))\n",
    "final_user_list = []\n",
    "for x in list(count_friends_sorted)[len(count_friends_sorted) - 1000 :]:\n",
    "    final_user_list.append(x)\n"
   ]
  },
  {
   "cell_type": "code",
   "execution_count": 4,
   "metadata": {},
   "outputs": [
    {
     "name": "stdout",
     "output_type": "stream",
     "text": [
      "528\n",
      "238\n"
     ]
    }
   ],
   "source": [
    "df_final = df[df.uid.isin(final_user_list)]\n",
    "groups2 = df_final.groupby('vid')\n",
    "sizes2 = groups2.size()\n",
    "min_occurences = 50\n",
    "places = sizes2[sizes2>=min_occurences].index\n",
    "df_final2 = df_final[df_final['vid'].isin(places)]\n",
    "print(df_final2.uid.nunique())\n",
    "print(df_final2.vid.nunique())\n",
    "df_final2.to_csv(r'../datasets_final/gowalla_friends/dataset.txt', sep=\"\\t\", mode='a', header=False, index=False)"
   ]
  }
 ],
 "metadata": {
  "kernelspec": {
   "display_name": "Python 3.8.8 ('base')",
   "language": "python",
   "name": "python3"
  },
  "language_info": {
   "codemirror_mode": {
    "name": "ipython",
    "version": 3
   },
   "file_extension": ".py",
   "mimetype": "text/x-python",
   "name": "python",
   "nbconvert_exporter": "python",
   "pygments_lexer": "ipython3",
   "version": "3.8.8"
  },
  "orig_nbformat": 4,
  "vscode": {
   "interpreter": {
    "hash": "31f537ffad4d028201ef45441dd01b7bb919ccc174877a702f96b13c420a2b84"
   }
  }
 },
 "nbformat": 4,
 "nbformat_minor": 2
}
